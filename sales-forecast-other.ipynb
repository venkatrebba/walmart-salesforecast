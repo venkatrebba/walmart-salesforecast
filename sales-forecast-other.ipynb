{
 "cells": [
  {
   "cell_type": "code",
   "execution_count": 71,
   "metadata": {},
   "outputs": [],
   "source": [
    "import pandas as pd\n",
    "from pandas import read_csv\n",
    "from datetime import datetime\n",
    "from sklearn.model_selection import train_test_split\n",
    "from sklearn import linear_model\n",
    "from sklearn.decomposition import PCA\n",
    "import matplotlib.pyplot as plt\n",
    "from sklearn.preprocessing import StandardScaler\n",
    "from sklearn.model_selection import train_test_split\n",
    "from pandas import read_csv\n",
    "from datetime import datetime\n",
    "from sklearn.metrics import mean_squared_error\n",
    "import math\n",
    "from sklearn.neighbors import KNeighborsRegressor\n",
    "import random\n",
    "import numpy as np\n",
    "import numpy.matlib\n",
    "import sklearn.svm\n",
    "import weatherdata\n",
    "from sklearn.linear_model import Ridge\n",
    "from sklearn.model_selection import GridSearchCV\n",
    "from sklearn import cross_validation, linear_model\n",
    "from sklearn.model_selection import ShuffleSplit"
   ]
  },
  {
   "cell_type": "code",
   "execution_count": 34,
   "metadata": {},
   "outputs": [
    {
     "data": {
      "text/html": [
       "<div>\n",
       "<style scoped>\n",
       "    .dataframe tbody tr th:only-of-type {\n",
       "        vertical-align: middle;\n",
       "    }\n",
       "\n",
       "    .dataframe tbody tr th {\n",
       "        vertical-align: top;\n",
       "    }\n",
       "\n",
       "    .dataframe thead th {\n",
       "        text-align: right;\n",
       "    }\n",
       "</style>\n",
       "<table border=\"1\" class=\"dataframe\">\n",
       "  <thead>\n",
       "    <tr style=\"text-align: right;\">\n",
       "      <th></th>\n",
       "      <th>Year</th>\n",
       "      <th>Month</th>\n",
       "      <th>Sales(In ThousandDollars)</th>\n",
       "      <th>ProductCategory</th>\n",
       "    </tr>\n",
       "  </thead>\n",
       "  <tbody>\n",
       "    <tr>\n",
       "      <th>0</th>\n",
       "      <td>2009</td>\n",
       "      <td>1</td>\n",
       "      <td>3215.0</td>\n",
       "      <td>all Clothing</td>\n",
       "    </tr>\n",
       "    <tr>\n",
       "      <th>1</th>\n",
       "      <td>2009</td>\n",
       "      <td>2</td>\n",
       "      <td>3084.0</td>\n",
       "      <td>all Clothing</td>\n",
       "    </tr>\n",
       "    <tr>\n",
       "      <th>2</th>\n",
       "      <td>2009</td>\n",
       "      <td>3</td>\n",
       "      <td>3719.0</td>\n",
       "      <td>all Clothing</td>\n",
       "    </tr>\n",
       "    <tr>\n",
       "      <th>3</th>\n",
       "      <td>2009</td>\n",
       "      <td>4</td>\n",
       "      <td>4245.0</td>\n",
       "      <td>all Clothing</td>\n",
       "    </tr>\n",
       "    <tr>\n",
       "      <th>4</th>\n",
       "      <td>2009</td>\n",
       "      <td>5</td>\n",
       "      <td>4371.0</td>\n",
       "      <td>all Clothing</td>\n",
       "    </tr>\n",
       "  </tbody>\n",
       "</table>\n",
       "</div>"
      ],
      "text/plain": [
       "   Year  Month  Sales(In ThousandDollars) ProductCategory\n",
       "0  2009      1                     3215.0    all Clothing\n",
       "1  2009      2                     3084.0    all Clothing\n",
       "2  2009      3                     3719.0    all Clothing\n",
       "3  2009      4                     4245.0    all Clothing\n",
       "4  2009      5                     4371.0    all Clothing"
      ]
     },
     "execution_count": 34,
     "metadata": {},
     "output_type": "execute_result"
    }
   ],
   "source": [
    "# loading separate datasets\n",
    "traindataset = pd.read_csv('csv/train_updated.csv')\n",
    "mensdataset = read_csv('csv/mens_clothing.csv')\n",
    "womensdataset = read_csv('csv/womens_clothing.csv')\n",
    "othersdataset = read_csv('csv/other_clothing.csv')\n",
    "traindataset['ProductCategory'] = 'all Clothing'\n",
    "#del mensdataset['ProductCategory']\n",
    "traindataset.head()\n",
    "\n",
    "#othersdataset.head()"
   ]
  },
  {
   "cell_type": "code",
   "execution_count": 35,
   "metadata": {},
   "outputs": [],
   "source": [
    "#print(traindataset.shape)\n",
    "#traindataset = traindataset[pd.notnull(traindataset['Sales(In ThousandDollars)'])]\n",
    "#print(traindataset.shape)"
   ]
  },
  {
   "cell_type": "code",
   "execution_count": 36,
   "metadata": {},
   "outputs": [],
   "source": [
    "#print(mensdataset.shape)\n",
    "mensdataset = mensdataset[pd.notnull(mensdataset['Sales(In ThousandDollars)'])]\n",
    "womensdataset = womensdataset[pd.notnull(womensdataset['Sales(In ThousandDollars)'])]\n",
    "othersdataset = othersdataset[pd.notnull(othersdataset['Sales(In ThousandDollars)'])]\n",
    "#print(mensdataset.shape)"
   ]
  },
  {
   "cell_type": "code",
   "execution_count": 37,
   "metadata": {},
   "outputs": [],
   "source": [
    "mensGrp = womensdataset.groupby(['Year'])\n",
    "#mensGrp.plot()\n",
    "#plt.show"
   ]
  },
  {
   "cell_type": "code",
   "execution_count": 38,
   "metadata": {},
   "outputs": [],
   "source": [
    "mensGrp = womensdataset.groupby(['Year'])\n",
    "#mensGrp.plot()\n",
    "#train_sales = pd.read_csv('csv/train_updated.csv')\n",
    "#trainGrp = train_sales.groupby('Year')\n",
    "#trainGrp.plot()\n",
    "#plt.show()"
   ]
  },
  {
   "cell_type": "code",
   "execution_count": 39,
   "metadata": {},
   "outputs": [],
   "source": [
    "#othersGrp = othersdataset.groupby(['Year'])\n",
    "#othersGrp.plot()\n",
    "#plt.show()"
   ]
  },
  {
   "cell_type": "code",
   "execution_count": 40,
   "metadata": {},
   "outputs": [
    {
     "data": {
      "text/plain": [
       "\"\\nplt.subplot(311)\\nplt.plot( mensdataset['Sales(In ThousandDollars)'], 'b.')\\n\\nplt.subplot(312)\\nplt.plot( womensdataset['Sales(In ThousandDollars)'], 'b.')\\n\\nplt.subplot(313)\\nplt.plot( othersdataset['Sales(In ThousandDollars)'], 'b.')\\n\""
      ]
     },
     "execution_count": 40,
     "metadata": {},
     "output_type": "execute_result"
    }
   ],
   "source": [
    "'''\n",
    "plt.subplot(311)\n",
    "plt.plot( mensdataset['Sales(In ThousandDollars)'], 'b.')\n",
    "\n",
    "plt.subplot(312)\n",
    "plt.plot( womensdataset['Sales(In ThousandDollars)'], 'b.')\n",
    "\n",
    "plt.subplot(313)\n",
    "plt.plot( othersdataset['Sales(In ThousandDollars)'], 'b.')\n",
    "'''"
   ]
  },
  {
   "cell_type": "code",
   "execution_count": 41,
   "metadata": {},
   "outputs": [],
   "source": [
    "scale = StandardScaler()\n",
    "#pca = PCA()\n",
    "\n",
    "#menScale = StandardScaler()\n",
    "#womenScale = StandardScaler()\n",
    "#othersScale = StandardScaler()\n",
    "#traindataset = pd.read_csv('csv/train_updated.csv')"
   ]
  },
  {
   "cell_type": "code",
   "execution_count": 42,
   "metadata": {},
   "outputs": [],
   "source": [
    "df1 = pd.read_csv(\"csv/mens_clothing.csv\", sep=\",\")\n",
    "df2 = pd.read_csv(\"csv/weatherdata_final.csv\", sep=\",\")\n",
    "result = pd.merge(df1, df2, on=['Year','Month'], how='inner')\n",
    "#result"
   ]
  },
  {
   "cell_type": "code",
   "execution_count": 116,
   "metadata": {},
   "outputs": [],
   "source": [
    "# preprocessing data\n",
    "def preprocess(dataset,isTest, cate):\n",
    "    dropcolumns = ['ProductCategory','PartyInPower','AdvertisingExpenses (in Thousand Dollars)','Change(in%)']\n",
    "    macrodataset = read_csv('csv/train_macro.csv')\n",
    "    weatherdataset = read_csv('csv/weatherdata_final.csv')\n",
    "    eventdays = read_csv('csv/eventdays.csv')\n",
    "    result = pd.merge(dataset, weatherdataset, on=['Year','Month'], how='inner')\n",
    "    result = pd.merge(result, eventdays, on=['Year','Month'], how='inner')\n",
    "    result.fillna(0)\n",
    "    frames = [result, macrodataset]\n",
    "    traindataset = pd.concat(frames,axis=1)\n",
    "    traindataset = traindataset.drop(dropcolumns,axis=1)\n",
    "    traindataset.fillna(0, inplace=True)\n",
    "    datavalues = traindataset.values\n",
    "    xvalues = datavalues[:,3:]\n",
    "    yvalues = datavalues[:,2]\n",
    "    if(cate == 'men'):\n",
    "        xvalues = scale.fit_transform(xvalues)\n",
    "    elif(cate == 'women'):\n",
    "        xvalues = scale.fit_transform(xvalues)\n",
    "    else:\n",
    "        xvalues = scale.fit_transform(xvalues)\n",
    "    #print(xvalues.shape)\n",
    "    #\n",
    "    #xvalues = pca.fit_transform(xvalues)\n",
    "    return train_test_split(xvalues, yvalues, test_size=0.2, random_state=100)\n",
    "       \n"
   ]
  },
  {
   "cell_type": "code",
   "execution_count": 117,
   "metadata": {},
   "outputs": [],
   "source": [
    "def cosssValidationpreprocess(dataset,isTest, cate):\n",
    "    dropcolumns = ['ProductCategory','PartyInPower','AdvertisingExpenses (in Thousand Dollars)','Change(in%)']\n",
    "    macrodataset = read_csv('csv/train_macro.csv')\n",
    "    weatherdataset = read_csv('csv/weatherdata_final.csv')\n",
    "    result = pd.merge(dataset, weatherdataset, on=['Year','Month'], how='right')\n",
    "    frames = [result, macrodataset]\n",
    "    traindataset = pd.concat(frames,axis=1)\n",
    "    traindataset = traindataset.drop(dropcolumns,axis=1)\n",
    "    traindataset.fillna(0, inplace=True)\n",
    "    datavalues = traindataset.values\n",
    "    xvalues = datavalues[:,3:]\n",
    "    yvalues = datavalues[:,2]\n",
    "    if(cate == 'men'):\n",
    "        xvalues = scale.fit_transform(xvalues)\n",
    "    elif(cate == 'women'):\n",
    "        xvalues = scale.fit_transform(xvalues)\n",
    "    else:\n",
    "        xvalues = scale.fit_transform(xvalues)\n",
    "    #print(xvalues.shape)\n",
    "    #\n",
    "    #xvalues = pca.fit_transform(xvalues)\n",
    "    return xvalues, yvalues\n",
    "     "
   ]
  },
  {
   "cell_type": "code",
   "execution_count": 118,
   "metadata": {},
   "outputs": [],
   "source": [
    "# models\n",
    "def trainModel(x_train, y_train):    \n",
    "    regr = linear_model.LinearRegression()\n",
    "    regr.fit(x_train, y_train)\n",
    "    return regr\n",
    "\n",
    "def knnModel(x_train,y_train, k):\n",
    "    neigh = KNeighborsRegressor(n_neighbors=k)\n",
    "    neigh.fit(x_train, y_train)\n",
    "    return neigh\n",
    "\n",
    "def svrModel(x_train,y_train):\n",
    "    tuned_model = sklearn.svm.SVR(kernel = 'linear',C=1)\n",
    "    tuned_model.fit(x_train, y_train)\n",
    "    return tuned_model\n",
    "\n",
    "def ridgeMode(x_train,y_train):\n",
    "    clf = Ridge(alpha=1.0)\n",
    "    clf.fit(x_train, y_train) \n",
    "    return clf\n"
   ]
  },
  {
   "cell_type": "code",
   "execution_count": 119,
   "metadata": {},
   "outputs": [],
   "source": [
    "def drwaplots(meny_test,men_predict,womeny_test, women_predict,othersy_test,other_predict ):\n",
    "    plt.figure()\n",
    "    plt.subplot(311)\n",
    "    plt.plot(meny_test,  color='black')\n",
    "    plt.plot(men_predict, color='blue')\n",
    "    plt.title('mens prediction')\n",
    "    \n",
    "    plt.subplot(312)\n",
    "    plt.plot(womeny_test,  color='black')\n",
    "    plt.plot(women_predict, color='blue')\n",
    "    plt.title('womens prediction')\n",
    "    \n",
    "    plt.subplot(313)\n",
    "    plt.plot(othersy_test,  color='black')\n",
    "    plt.plot(other_predict, color='blue')\n",
    "    plt.title('others prediction')\n",
    "    plt.show()"
   ]
  },
  {
   "cell_type": "code",
   "execution_count": 120,
   "metadata": {},
   "outputs": [
    {
     "data": {
      "text/plain": [
       "((57, 24), (15, 24), (57,), (15,))"
      ]
     },
     "execution_count": 120,
     "metadata": {},
     "output_type": "execute_result"
    }
   ],
   "source": [
    "isTest = False\n",
    "#menx_train, menx_test, meny_train, meny_test =  preprocess(mensdataset, isTest, 'men')\n",
    "#womenx_train, womenx_test, womeny_train, womeny_test =  preprocess(womensdataset,isTest, 'women' )\n",
    "#othersx_train, othersx_test, othersy_train, othersy_test =  preprocess(othersdataset, isTest, 'others')\n",
    "\n",
    "x_train, x_test, y_train, y_test =  preprocess(traindataset, isTest, 'others')\n",
    "#menx_train = menScale.fit_transform(menx_train)\n",
    "#menx_test = menScale.transform(menx_test)\n",
    "#womenx_train = womenScale.fit_transform(womenx_train)\n",
    "#womenx_test = womenScale.transform(womenx_test)\n",
    "#othersx_train = othersScale.fit_transform(othersx_train)\n",
    "#othersx_test = othersScale.transform(othersx_test)\n",
    "\n",
    "\n",
    "#menx_train.shape,menx_test.shape,meny_train.shape,meny_test.shape\n",
    "x_train.shape,x_test.shape,y_train.shape,y_test.shape"
   ]
  },
  {
   "cell_type": "code",
   "execution_count": 121,
   "metadata": {},
   "outputs": [
    {
     "name": "stdout",
     "output_type": "stream",
     "text": [
      "men_rmse: 966.323\n"
     ]
    },
    {
     "data": {
      "text/plain": [
       "Text(0.5,1,'prediction')"
      ]
     },
     "execution_count": 121,
     "metadata": {},
     "output_type": "execute_result"
    },
    {
     "data": {
      "image/png": "[encoded data removed]",
      "text/plain": [
       "<Figure size 432x288 with 1 Axes>"
      ]
     },
     "metadata": {},
     "output_type": "display_data"
    }
   ],
   "source": [
    "# checking with ridge regression model\n",
    "\n",
    "param_grid = [\n",
    "  {'alpha': [1, 10, 100, 1000], 'max_iter': [10000, 100000, 50000]},\n",
    " ]\n",
    "\n",
    "menclf = Ridge(alpha=1.0)\n",
    "menregr = GridSearchCV(menclf,param_grid)\n",
    "menregr.fit(x_train,y_train) \n",
    "\n",
    "y_predict = menregr.predict(x_test)\n",
    "men_rmse = math.sqrt(mean_squared_error(y_predict, y_test))\n",
    "print('men_rmse: %.3f' % men_rmse)\n",
    "\n",
    "plt.plot(y_test,   'b')\n",
    "plt.plot(y_predict, 'g')\n",
    "plt.title('prediction')\n",
    "\n",
    "#regr = ridgeMode(x_train,y_train)\n",
    "#womenregr = ridgeMode(womenx_train,womeny_train)\n",
    "#othersregr = ridgeMode(othersx_train, othersy_train)\n",
    "\n",
    "#women_rmse = math.sqrt(mean_squared_error(women_predict, womeny_test))\n",
    "#other_rmse = math.sqrt(mean_squared_error(other_predict, othersy_test))\n",
    "\n",
    "\n",
    "\n",
    "#drwaplots(meny_test,men_predict,womeny_test, women_predict,othersy_test,other_predict )"
   ]
  },
  {
   "cell_type": "code",
   "execution_count": 122,
   "metadata": {},
   "outputs": [
    {
     "name": "stdout",
     "output_type": "stream",
     "text": [
      "men_rmse: 2029.194\n"
     ]
    },
    {
     "data": {
      "image/png": "[encoded data removed]",
      "text/plain": [
       "<Figure size 432x288 with 1 Axes>"
      ]
     },
     "metadata": {},
     "output_type": "display_data"
    }
   ],
   "source": [
    "# linear mode\n",
    "menregr = trainModel(x_train,y_train)\n",
    "y_predict = menregr.predict(x_test)\n",
    "men_rmse = math.sqrt(mean_squared_error(y_predict, y_test))\n",
    "print('men_rmse: %.3f' % men_rmse)\n",
    "\n",
    "plt.plot(y_test,   'b')\n",
    "plt.plot(y_predict, 'g')\n",
    "plt.title('prediction')\n",
    "plt.show()\n"
   ]
  },
  {
   "cell_type": "code",
   "execution_count": null,
   "metadata": {},
   "outputs": [],
   "source": []
  },
  {
   "cell_type": "code",
   "execution_count": null,
   "metadata": {},
   "outputs": [],
   "source": []
  },
  {
   "cell_type": "code",
   "execution_count": 102,
   "metadata": {},
   "outputs": [
    {
     "name": "stdout",
     "output_type": "stream",
     "text": [
      "men_rmse: 2205.903\n"
     ]
    },
    {
     "data": {
      "image/png": "[encoded data removed]",
      "text/plain": [
       "<Figure size 432x288 with 1 Axes>"
      ]
     },
     "metadata": {},
     "output_type": "display_data"
    }
   ],
   "source": [
    "# checking with svr model\n",
    "menregr = svrModel(x_train,y_train)\n",
    "y_predict = menregr.predict(x_test)\n",
    "men_rmse = math.sqrt(mean_squared_error(y_predict, y_test))\n",
    "print('men_rmse: %.3f' % men_rmse)\n",
    "\n",
    "plt.plot(y_test,   'b')\n",
    "plt.plot(y_predict, 'g')\n",
    "plt.title('prediction')\n",
    "plt.show()"
   ]
  },
  {
   "cell_type": "code",
   "execution_count": 103,
   "metadata": {},
   "outputs": [
    {
     "name": "stdout",
     "output_type": "stream",
     "text": [
      "5\n"
     ]
    }
   ],
   "source": [
    "# k-nn model\n",
    "s = 9999999\n",
    "best_k = 0\n",
    "for epoch in range(1,20):\n",
    "    k = random.randint(1,10)\n",
    "    #k = epoch\n",
    "    #print(k)\n",
    "    menregr = knnModel(x_train,y_train,k)\n",
    "\n",
    "    y_predict = menregr.predict(x_test)\n",
    "    men_rmse = math.sqrt(mean_squared_error(y_predict, y_test))\n",
    "    ss = men_rmse\n",
    "    \n",
    "    if(ss < s):\n",
    "        best_k = k\n",
    "        s = ss\n",
    "    #print('men_rmse: %.3f' % men_rmse, \"women_rmse: %.3f\" % women_rmse, 'others rmse: %.3f' % other_rmse)\n",
    "    \n",
    "\n",
    "print(best_k)\n"
   ]
  },
  {
   "cell_type": "code",
   "execution_count": 104,
   "metadata": {},
   "outputs": [
    {
     "name": "stdout",
     "output_type": "stream",
     "text": [
      "men_rmse: 1086.615\n"
     ]
    },
    {
     "data": {
      "image/png": "[encoded data removed]",
      "text/plain": [
       "<Figure size 432x288 with 1 Axes>"
      ]
     },
     "metadata": {},
     "output_type": "display_data"
    }
   ],
   "source": [
    "#best_k = 8\n",
    "\n",
    "\n",
    "menregr = knnModel(x_train,y_train,best_k)\n",
    "y_predict = menregr.predict(x_test)\n",
    "men_rmse = math.sqrt(mean_squared_error(y_predict, y_test))\n",
    "print('men_rmse: %.3f' % men_rmse)\n",
    "\n",
    "plt.plot(y_test,   'b')\n",
    "plt.plot(y_predict, 'g')\n",
    "plt.title('prediction')\n",
    "plt.show()"
   ]
  },
  {
   "cell_type": "code",
   "execution_count": 81,
   "metadata": {},
   "outputs": [
    {
     "ename": "TypeError",
     "evalue": "__init__() takes 1 positional argument but 2 were given",
     "output_type": "error",
     "traceback": [
      "\u001b[0;31m---------------------------------------------------------------------------\u001b[0m",
      "\u001b[0;31mTypeError\u001b[0m                                 Traceback (most recent call last)",
      "\u001b[0;32m<ipython-input-81-fc011732fe6d>\u001b[0m in \u001b[0;36m<module>\u001b[0;34m()\u001b[0m\n\u001b[1;32m      3\u001b[0m \u001b[0mx_train\u001b[0m\u001b[0;34m,\u001b[0m \u001b[0my_train\u001b[0m \u001b[0;34m=\u001b[0m \u001b[0mcosssValidationpreprocess\u001b[0m\u001b[0;34m(\u001b[0m\u001b[0mtraindataset\u001b[0m\u001b[0;34m,\u001b[0m \u001b[0misTest\u001b[0m\u001b[0;34m,\u001b[0m \u001b[0;34m'others'\u001b[0m\u001b[0;34m)\u001b[0m\u001b[0;34m\u001b[0m\u001b[0m\n\u001b[1;32m      4\u001b[0m \u001b[0;31m#regr = linear_model.LinearRegression()\u001b[0m\u001b[0;34m\u001b[0m\u001b[0;34m\u001b[0m\u001b[0m\n\u001b[0;32m----> 5\u001b[0;31m \u001b[0mloo\u001b[0m \u001b[0;34m=\u001b[0m \u001b[0mLeaveOneOut\u001b[0m\u001b[0;34m(\u001b[0m\u001b[0;34m(\u001b[0m\u001b[0mlen\u001b[0m\u001b[0;34m(\u001b[0m\u001b[0my_train\u001b[0m\u001b[0;34m)\u001b[0m\u001b[0;34m)\u001b[0m\u001b[0;34m)\u001b[0m\u001b[0;34m\u001b[0m\u001b[0m\n\u001b[0m\u001b[1;32m      6\u001b[0m \u001b[0mregr\u001b[0m \u001b[0;34m=\u001b[0m \u001b[0mKNeighborsRegressor\u001b[0m\u001b[0;34m(\u001b[0m\u001b[0mn_neighbors\u001b[0m\u001b[0;34m=\u001b[0m\u001b[0;36m4\u001b[0m\u001b[0;34m)\u001b[0m\u001b[0;34m\u001b[0m\u001b[0m\n\u001b[1;32m      7\u001b[0m \u001b[0;31m#cv = ShuffleSplit(n_splits=3, test_size=0.3, random_state=100)\u001b[0m\u001b[0;34m\u001b[0m\u001b[0;34m\u001b[0m\u001b[0m\n",
      "\u001b[0;31mTypeError\u001b[0m: __init__() takes 1 positional argument but 2 were given"
     ]
    }
   ],
   "source": [
    "# cross validation\n",
    "from sklearn.model_selection import LeaveOneOut\n",
    "x_train, y_train = cosssValidationpreprocess(traindataset, isTest, 'others')\n",
    "#regr = linear_model.LinearRegression()\n",
    "loo = LeaveOneOut((len(y_train)))\n",
    "regr = KNeighborsRegressor(n_neighbors=4)\n",
    "#cv = ShuffleSplit(n_splits=3, test_size=0.3, random_state=100)\n",
    "scores = cross_validation.cross_val_score(regr, x_train, y_train, scoring='neg_mean_squared_error', cv=loo)\n",
    "print(scores)\n"
   ]
  },
  {
   "cell_type": "code",
   "execution_count": 52,
   "metadata": {
    "scrolled": false
   },
   "outputs": [],
   "source": [
    "testdata = pd.read_csv('csv/test_data.csv')\n",
    "testMacroData = pd.read_csv('csv/test_macro.csv')\n",
    "weather = pd.read_csv(\"csv/weatherdata_final.csv\", sep=\",\")\n",
    "result = pd.merge(testdata, weather, on=['Year','Month'], how='inner')\n",
    "del result['Sales(In ThousandDollars)']\n",
    "#result"
   ]
  },
  {
   "cell_type": "code",
   "execution_count": 53,
   "metadata": {},
   "outputs": [],
   "source": [
    "# repeating macro business data for 3 categories\n",
    "def preprocessTestMacroData(testMacroData):\n",
    "    dropcolumns = ['PartyInPower','AdvertisingExpenses (in Thousand Dollars)','Change(in%)', 'Year','Month','Year-Month']\n",
    "    testMacroData = testMacroData.drop(dropcolumns,axis=1)\n",
    "\n",
    "    testMacroData.fillna(0)\n",
    "    finalData = np.zeros((3*testMacroData.values.shape[0],testMacroData.values.shape[1]),dtype = object)\n",
    "    for i,row in enumerate(testMacroData.values):    \n",
    "        x =  np.array(row)\n",
    "        x = np.matlib.repmat(x,3,1)\n",
    "        finalData[i*3:3*i+3] = x\n",
    "    changed = pd.DataFrame(finalData, columns = testMacroData.columns)\n",
    "    return changed"
   ]
  },
  {
   "cell_type": "code",
   "execution_count": 54,
   "metadata": {},
   "outputs": [],
   "source": [
    "test_macro = preprocessTestMacroData(testMacroData)\n",
    "frames = [result, test_macro]\n",
    "testdataset = pd.concat(frames,axis=1)\n",
    "#testdataset"
   ]
  },
  {
   "cell_type": "code",
   "execution_count": 109,
   "metadata": {},
   "outputs": [
    {
     "name": "stdout",
     "output_type": "stream",
     "text": [
      "[4915.636510789551, 4915.636510789551, 4915.636510789551, 7419.304553467253, 7419.304553467253, 7419.304553467253, 7405.212573011675, 7405.212573011675, 7405.212573011675, 7295.8958471877995, 7295.8958471877995, 7295.8958471877995]\n"
     ]
    }
   ],
   "source": [
    "mensdata = []\n",
    "womensdata = []\n",
    "othersdata = []\n",
    "data = testdataset.values\n",
    "#ata = scale.transform(data)\n",
    "for row in data:\n",
    "    #if row[2] == 'WomenClothing':\n",
    "    #    womensdata.append(row[3:])\n",
    "    #elif row[2] == 'MenClothing':\n",
    "    #    mensdata.append(row[3:])\n",
    "    #else:\n",
    "    mensdata.append(row[3:])\n",
    "#mensdata = np.array(mensdata)\n",
    "#print((mensdata).shape)\n",
    "\n",
    "#mensdata = menScale.transform(mensdata)\n",
    "#womensdata = womenScale.transform(womensdata)\n",
    "#othersdata = othersScale.transform(othersdata)\n",
    "\n",
    "mensdata = scale.transform(mensdata)\n",
    "#womensdata = scale.transform(womensdata)\n",
    "#othersdata = scale.transform(othersdata)\n",
    "\n",
    "#mensdata = pca.transform(mensdata)\n",
    "#womensdata = pca.transform(womensdata)\n",
    "#othersdata = pca.transform(othersdata)\n",
    "\n",
    "men_predict = menregr.predict(mensdata)\n",
    "#women_predict = womenregr.predict(womensdata)\n",
    "#other_predict = othersregr.predict(othersdata)\n",
    "predict = []\n",
    "#rint(testdataset.values.shape)\n",
    "for i in range(testdataset.values.shape[0]//3):\n",
    "    #predict.append(women_predict[i])\n",
    "    predict.append(men_predict[i])\n",
    "    #predict.append(other_predict[i])\n",
    "\n",
    "print(predict)\n",
    "index = [i for i in range(1,37)]\n",
    "out = [ [i+1, pred] for i,pred in enumerate(predict)]\n",
    "output = pd.DataFrame(out,columns = ['Year','Sales(In ThousandDollars)'])\n",
    "#originalData = testdataset.values[:,:3]\n",
    "#testdata['Sales(In ThousandDollars)'] = predict\n",
    "#testdataset\n",
    "output.to_csv('csv/output.csv', sep=',', index=False)"
   ]
  },
  {
   "cell_type": "code",
   "execution_count": null,
   "metadata": {},
   "outputs": [],
   "source": []
  },
  {
   "cell_type": "code",
   "execution_count": null,
   "metadata": {},
   "outputs": [],
   "source": []
  }
 ],
 "metadata": {
  "kernelspec": {
   "display_name": "Python 3",
   "language": "python",
   "name": "python3"
  },
  "language_info": {
   "codemirror_mode": {
    "name": "ipython",
    "version": 3
   },
   "file_extension": ".py",
   "mimetype": "text/x-python",
   "name": "python",
   "nbconvert_exporter": "python",
   "pygments_lexer": "ipython3",
   "version": "3.5.2"
  }
 },
 "nbformat": 4,
 "nbformat_minor": 2
}
