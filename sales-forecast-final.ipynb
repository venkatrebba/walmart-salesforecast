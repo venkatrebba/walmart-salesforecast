{
 "cells": [
  {
   "cell_type": "code",
   "execution_count": 8,
   "metadata": {},
   "outputs": [],
   "source": [
    "import pandas as pd\n",
    "from pandas import read_csv\n",
    "from datetime import datetime\n",
    "from sklearn.model_selection import train_test_split\n",
    "from sklearn import linear_model\n",
    "from sklearn.decomposition import PCA\n",
    "import matplotlib.pyplot as plt\n",
    "from sklearn.preprocessing import StandardScaler\n",
    "from sklearn.model_selection import train_test_split\n",
    "from pandas import read_csv\n",
    "from datetime import datetime\n",
    "from sklearn.metrics import mean_squared_error\n",
    "import math\n",
    "from sklearn.neighbors import KNeighborsRegressor\n",
    "import random\n",
    "import numpy as np\n",
    "import numpy.matlib\n",
    "import sklearn.svm\n",
    "import weatherdata\n",
    "from sklearn.linear_model import Ridge\n",
    "from sklearn.model_selection import GridSearchCV\n",
    "from sklearn.ensemble import RandomForestRegressor\n",
    "from sklearn.datasets import make_regression\n"
   ]
  },
  {
   "cell_type": "code",
   "execution_count": 9,
   "metadata": {},
   "outputs": [],
   "source": [
    "# loading separate datasets\n",
    "mensdataset = read_csv('csv/mens_clothing.csv')\n",
    "womensdataset = read_csv('csv/womens_clothing.csv')\n",
    "othersdataset = read_csv('csv/other_clothing.csv')\n",
    "\n",
    "mensdataset = mensdataset[pd.notnull(mensdataset['Sales(In ThousandDollars)'])]\n",
    "womensdataset = womensdataset[pd.notnull(womensdataset['Sales(In ThousandDollars)'])]\n",
    "othersdataset = othersdataset[pd.notnull(othersdataset['Sales(In ThousandDollars)'])]\n",
    "\n",
    "scale = StandardScaler()\n"
   ]
  },
  {
   "cell_type": "code",
   "execution_count": 10,
   "metadata": {},
   "outputs": [],
   "source": [
    "# preprocessing data\n",
    "def preprocess(dataset,isTest, cate):\n",
    "    dropcolumns = ['ProductCategory','PartyInPower','AdvertisingExpenses (in Thousand Dollars)','Change(in%)']\n",
    "    macrodataset = read_csv('csv/train_macro.csv')\n",
    "    weatherdataset = read_csv('csv/weatherdata_final.csv')\n",
    "    eventdays = read_csv('csv/eventdays.csv')\n",
    "    result = pd.merge(dataset, weatherdataset, on=['Year','Month'], how='inner')\n",
    "    result = pd.merge(result, eventdays, on=['Year','Month'], how='left')\n",
    "    result = result.fillna(0)\n",
    "    frames = [result, macrodataset]\n",
    "    traindataset = pd.concat(frames,axis=1)\n",
    "    traindataset = traindataset.drop(dropcolumns,axis=1)\n",
    "    traindataset.fillna(0, inplace=True)\n",
    "    datavalues = traindataset.values\n",
    "    xvalues = datavalues[:,3:]\n",
    "    yvalues = datavalues[:,2]\n",
    "    xvalues = scale.fit_transform(xvalues)\n",
    "    return train_test_split(xvalues, yvalues, test_size=0.2, random_state=100)\n",
    "       \n"
   ]
  },
  {
   "cell_type": "code",
   "execution_count": 11,
   "metadata": {},
   "outputs": [],
   "source": [
    "# models\n",
    "def trainModel(x_train, y_train):    \n",
    "    regr = linear_model.LinearRegression()\n",
    "    regr.fit(x_train, y_train)\n",
    "    return regr\n",
    "\n",
    "def knnModel(x_train,y_train, k):\n",
    "    neigh = KNeighborsRegressor(n_neighbors=k)\n",
    "    neigh.fit(x_train, y_train)\n",
    "    return neigh\n",
    "\n",
    "def svrModel(x_train,y_train):\n",
    "    tuned_model = sklearn.svm.SVR(kernel = 'linear',C=1)\n",
    "    tuned_model.fit(x_train, y_train)\n",
    "    return tuned_model\n",
    "\n",
    "def ridgeMode(x_train,y_train):\n",
    "    clf = Ridge(alpha=1.0)\n",
    "    clf.fit(x_train, y_train) \n",
    "    return clf\n"
   ]
  },
  {
   "cell_type": "code",
   "execution_count": 12,
   "metadata": {},
   "outputs": [],
   "source": [
    "def drwaplots(meny_test,men_predict,womeny_test, women_predict,othersy_test,other_predict ):\n",
    "    plt.figure()\n",
    "    plt.subplot(311)\n",
    "    plt.plot(meny_test,  color='black')\n",
    "    plt.plot(men_predict, color='blue')\n",
    "    plt.title('mens prediction')\n",
    "    \n",
    "    plt.subplot(312)\n",
    "    plt.plot(womeny_test,  color='black')\n",
    "    plt.plot(women_predict, color='blue')\n",
    "    plt.title('womens prediction')\n",
    "    \n",
    "    plt.subplot(313)\n",
    "    plt.plot(othersy_test,  color='black')\n",
    "    plt.plot(other_predict, color='blue')\n",
    "    plt.title('others prediction')\n",
    "    plt.show()"
   ]
  },
  {
   "cell_type": "code",
   "execution_count": 13,
   "metadata": {},
   "outputs": [
    {
     "data": {
      "text/plain": [
       "((57, 24), (15, 24), (57,), (15,))"
      ]
     },
     "execution_count": 13,
     "metadata": {},
     "output_type": "execute_result"
    }
   ],
   "source": [
    "isTest = False\n",
    "menx_train, menx_test, meny_train, meny_test =  preprocess(mensdataset, isTest, 'men')\n",
    "womenx_train, womenx_test, womeny_train, womeny_test =  preprocess(womensdataset,isTest, 'women' )\n",
    "othersx_train, othersx_test, othersy_train, othersy_test =  preprocess(othersdataset, isTest, 'others')\n",
    "\n",
    "menx_train.shape,menx_test.shape,meny_train.shape,meny_test.shape"
   ]
  },
  {
   "cell_type": "code",
   "execution_count": 23,
   "metadata": {},
   "outputs": [
    {
     "name": "stdout",
     "output_type": "stream",
     "text": [
      "{'weights': 'distance', 'p': 6, 'leaf_size': 20, 'algorithm': 'brute', 'n_neighbors': 3}\n",
      "{'weights': 'distance', 'p': 3, 'leaf_size': 20, 'algorithm': 'brute', 'n_neighbors': 3}\n",
      "{'weights': 'distance', 'p': 4, 'leaf_size': 20, 'algorithm': 'brute', 'n_neighbors': 3}\n",
      "men_rmse: 83.576 women_rmse: 470.570 others rmse: 125.210\n"
     ]
    }
   ],
   "source": [
    "# using knn\n",
    "\n",
    "param_grid = {'n_neighbors': [3,4,5,6,7,8,9], 'weights': ['uniform','distance'], 'algorithm' : ['brute', 'kd_tree', 'ball_tree', 'auto'],\n",
    "  'p' :[1,2,3,4,5,6], 'leaf_size' : [20,30,40] }\n",
    "\n",
    "neigh = KNeighborsRegressor()\n",
    "menregr = GridSearchCV(neigh, param_grid)\n",
    "menregr.fit(menx_train,meny_train)\n",
    "print(menregr.best_params_)\n",
    "\n",
    "neigh = KNeighborsRegressor()\n",
    "womenregr = GridSearchCV(neigh, param_grid)\n",
    "womenregr.fit(womenx_train,womeny_train)\n",
    "print(womenregr.best_params_)\n",
    "\n",
    "\n",
    "neigh = KNeighborsRegressor()\n",
    "othersregr = GridSearchCV(neigh, param_grid)\n",
    "othersregr.fit(othersx_train,othersy_train)\n",
    "print(othersregr.best_params_)\n",
    "\n",
    "\n",
    "men_predict = menregr.predict(menx_test)\n",
    "women_predict = womenregr.predict(womenx_test)\n",
    "other_predict = othersregr.predict(othersx_test)\n",
    "\n",
    "men_rmse = math.sqrt(mean_squared_error(men_predict, meny_test))\n",
    "women_rmse = math.sqrt(mean_squared_error(women_predict, womeny_test))\n",
    "other_rmse = math.sqrt(mean_squared_error(other_predict, othersy_test))\n",
    "\n",
    "print('men_rmse: %.3f' % men_rmse, \"women_rmse: %.3f\" % women_rmse, 'others rmse: %.3f' % other_rmse)\n",
    "    "
   ]
  },
  {
   "cell_type": "code",
   "execution_count": null,
   "metadata": {},
   "outputs": [],
   "source": []
  },
  {
   "cell_type": "code",
   "execution_count": 27,
   "metadata": {
    "scrolled": false
   },
   "outputs": [],
   "source": [
    "testdata = pd.read_csv('csv/test_data.csv')\n",
    "testMacroData = pd.read_csv('csv/test_macro.csv')\n",
    "weather = pd.read_csv(\"csv/weatherdata_final.csv\", sep=\",\")\n",
    "result = pd.merge(testdata, weather, on=['Year','Month'], how='inner')\n",
    "eventdays = read_csv('csv/eventdays.csv')\n",
    "result = pd.merge(result, eventdays, on=['Year','Month'], how='left')\n",
    "result = result.fillna(0)\n",
    "del result['Sales(In ThousandDollars)']\n",
    "#result"
   ]
  },
  {
   "cell_type": "code",
   "execution_count": 28,
   "metadata": {},
   "outputs": [],
   "source": [
    "# repeating macro business data for 3 categories\n",
    "def preprocessTestMacroData(testMacroData):\n",
    "    dropcolumns = ['PartyInPower','AdvertisingExpenses (in Thousand Dollars)','Change(in%)', 'Year','Month','Year-Month']\n",
    "    testMacroData = testMacroData.drop(dropcolumns,axis=1)\n",
    "\n",
    "    testMacroData.fillna(0)\n",
    "    finalData = np.zeros((3*testMacroData.values.shape[0],testMacroData.values.shape[1]),dtype = object)\n",
    "    for i,row in enumerate(testMacroData.values):    \n",
    "        x =  np.array(row)\n",
    "        x = np.matlib.repmat(x,3,1)\n",
    "        finalData[i*3:3*i+3] = x\n",
    "    changed = pd.DataFrame(finalData, columns = testMacroData.columns)\n",
    "    return changed"
   ]
  },
  {
   "cell_type": "code",
   "execution_count": 29,
   "metadata": {},
   "outputs": [],
   "source": [
    "test_macro = preprocessTestMacroData(testMacroData)\n",
    "frames = [result, test_macro]\n",
    "testdataset = pd.concat(frames,axis=1)\n",
    "#testdataset"
   ]
  },
  {
   "cell_type": "code",
   "execution_count": 32,
   "metadata": {},
   "outputs": [
    {
     "name": "stdout",
     "output_type": "stream",
     "text": [
      "(12, 24)\n",
      "[4075.703223190013, 708.4250306187542, 1228.9836976558774, 4054.193250055218, 719.3369488862527, 1227.77665124128, 4124.606454784451, 718.5170191266385, 1204.9773546365311, 3919.0123867888046, 731.3405469054802, 1228.2056363163654, 4131.116265986823, 735.0963702589945, 1190.0818864587675, 4172.778879991532, 731.4202427480325, 1236.211024888952, 4125.806384114843, 718.1563231050108, 1249.3947076802672, 3926.508041910963, 718.3491554324476, 1197.7488751405635, 4110.545088376099, 724.8673164011043, 1193.2469799159758, 4074.2553713138736, 729.4859891850077, 1260.9246347411347, 4076.9733009014803, 698.5411271668161, 1263.5000753309123, 5031.8708674050185, 1078.8698496025538, 1598.0093229878996]\n"
     ]
    },
    {
     "name": "stderr",
     "output_type": "stream",
     "text": [
      "/usr/local/lib/python3.5/dist-packages/sklearn/utils/validation.py:475: DataConversionWarning: Data with input dtype object was converted to float64 by StandardScaler.\n",
      "  warnings.warn(msg, DataConversionWarning)\n"
     ]
    }
   ],
   "source": [
    "mensdata = []\n",
    "womensdata = []\n",
    "othersdata = []\n",
    "data = testdataset.values\n",
    "#ata = scale.transform(data)\n",
    "for row in data:\n",
    "    if row[2] == 'WomenClothing':\n",
    "        womensdata.append(row[3:])\n",
    "    elif row[2] == 'MenClothing':\n",
    "        mensdata.append(row[3:])\n",
    "    else:\n",
    "        othersdata.append(row[3:])\n",
    "mensdata = np.array(mensdata)\n",
    "print((mensdata).shape)\n",
    "\n",
    "\n",
    "mensdata = scale.transform(mensdata)\n",
    "womensdata = scale.transform(womensdata)\n",
    "othersdata = scale.transform(othersdata)\n",
    "\n",
    "#mensdata = pca.transform(mensdata)\n",
    "#womensdata = pca.transform(womensdata)\n",
    "#othersdata = pca.transform(othersdata)\n",
    "\n",
    "men_predict = menregr.predict(mensdata)\n",
    "women_predict = womenregr.predict(womensdata)\n",
    "other_predict = othersregr.predict(othersdata)\n",
    "predict = []\n",
    "#rint(testdataset.values.shape)\n",
    "for i in range(testdataset.values.shape[0]//3):\n",
    "    predict.append(women_predict[i])\n",
    "    predict.append(men_predict[i])\n",
    "    predict.append(other_predict[i])\n",
    "\n",
    "print(predict)\n",
    "index = [i for i in range(1,37)]\n",
    "out = [ [i+1, pred] for i,pred in enumerate(predict)]\n",
    "output = pd.DataFrame(out,columns = ['Year','Sales(In ThousandDollars)'])\n",
    "#originalData = testdataset.values[:,:3]\n",
    "#testdata['Sales(In ThousandDollars)'] = predict\n",
    "#testdataset\n",
    "output.to_csv('csv/test_output.csv', sep=',', index=False)\n"
   ]
  },
  {
   "cell_type": "code",
   "execution_count": null,
   "metadata": {},
   "outputs": [],
   "source": []
  },
  {
   "cell_type": "code",
   "execution_count": null,
   "metadata": {},
   "outputs": [],
   "source": []
  }
 ],
 "metadata": {
  "kernelspec": {
   "display_name": "Python 3",
   "language": "python",
   "name": "python3"
  },
  "language_info": {
   "codemirror_mode": {
    "name": "ipython",
    "version": 3
   },
   "file_extension": ".py",
   "mimetype": "text/x-python",
   "name": "python",
   "nbconvert_exporter": "python",
   "pygments_lexer": "ipython3",
   "version": "3.5.2"
  }
 },
 "nbformat": 4,
 "nbformat_minor": 2
}
