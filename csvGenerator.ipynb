{
 "cells": [
  {
   "cell_type": "code",
   "execution_count": 122,
   "metadata": {},
   "outputs": [],
   "source": [
    "import pandas as pd\n",
    "import numpy as np\n",
    "import copy\n",
    "#import unicode\n",
    "import csv"
   ]
  },
  {
   "cell_type": "code",
   "execution_count": 140,
   "metadata": {},
   "outputs": [],
   "source": [
    "class weatherData():\n",
    "    \n",
    "    def __init__(self,filename):\n",
    "        self.xls = pd.ExcelFile(filename)\n",
    "        self.df = pd.read_excel(self.xls, None)\n",
    "        \n",
    "    def getAggregate(self):\n",
    "        df = self.df\n",
    "        size = df['2009'].values.shape\n",
    "        aggrData = np.empty((size), dtype = object)\n",
    "        for year in df.keys():\n",
    "            df[year]['Year'] = year\n",
    "            #if(year == '2014'):\n",
    "            #    print(df[year])\n",
    "            yearWiseDataset = df[year].values\n",
    "            if(aggrData.all() == None):\n",
    "                aggrData = copy.deepcopy(yearWiseDataset)\n",
    "                continue\n",
    "            aggrData = np.concatenate((aggrData,yearWiseDataset), axis = 0)\n",
    "        return aggrData\n",
    "    \n",
    "    def formatCol(self, col):\n",
    "        col = [ 'Precip (mm) sum'  if 'Precip' in c else c for c in col ]\n",
    "        return col\n",
    "    '''\n",
    "    def getWeatherEventData(self, weatherEvent):\n",
    "        fog = []\n",
    "        rain = []\n",
    "        snow = []\n",
    "        event = []\n",
    "        for weat in weatherEvent:\n",
    "            weat = str(weat)\n",
    "            if weat == None or weat == 'NaN' or weat == 'nan':\n",
    "                fog.append(0)\n",
    "                rain.append(0)\n",
    "                snow.append(0)\n",
    "            else:\n",
    "                weat = weat.lower()\n",
    "                fog.append(1 if('fog' in weat)  else 0)\n",
    "                rain.append(1 if('rain' in weat) else 0 )\n",
    "                snow.append(1 if('snow' in weat) else 0)\n",
    "        return fog,rain,snow\n",
    "    '''\n",
    "    def getWeatherEventData(self, weatherEvent):\n",
    "        fog = []\n",
    "        rain = []\n",
    "        snow = []\n",
    "        event = []\n",
    "        for weat in weatherEvent:\n",
    "            weat = str(weat)\n",
    "            if weat == None or weat == 'NaN' or weat == 'nan':\n",
    "                event.append(0)\n",
    "            else:\n",
    "                weat = weat.lower()\n",
    "                #s = 0\n",
    "                #s += (1 if('fog' in weat)  else 0)\n",
    "                #s += (1 if('rain' in weat) else 0)\n",
    "                #s += (1 if('snow' in weat) else 0)\n",
    "                event.append(1)\n",
    "        return event\n",
    "    \n",
    "    def preprocessAndGetData(self):\n",
    "        df = self.df\n",
    "        aggrData = self.getAggregate()\n",
    "        aggrDataSet = pd.DataFrame(aggrData, columns = self.formatCol(df['2009'].columns) )\n",
    "        dropcolumns = []\n",
    "        for key in aggrDataSet.keys():\n",
    "            if 'high' in key or 'low' in key:\n",
    "                dropcolumns.append(key)\n",
    "        #dropcolumns = ['Temp high (°C)','Temp low (°C)','Dew Point high (°C)','Dew Point low (°C)','Humidity (%) high','Humidity (%) low','Sea Level Press. (hPa) high','Sea Level Press. (hPa) low','Visibility (km) high','Visibility (km) low','Wind (km/h) low','Wind (km/h) high']\n",
    "        aggrDataSet = aggrDataSet.drop(dropcolumns,axis=1)\n",
    "\n",
    "        weatherEvent = aggrDataSet['WeatherEvent']\n",
    "        #fog,rain,snow = self.getWeatherEventData(weatherEvent)\n",
    "        event = self.getWeatherEventData(weatherEvent)\n",
    "        prinSum = aggrDataSet['Precip (mm) sum']\n",
    "        prinSum = [0 if ele == 'T' else ele for ele in prinSum]\n",
    "        aggrDataSet['Precip (mm) sum'] = prinSum\n",
    "        aggrDataSet.dropna(0)\n",
    "\n",
    "        del aggrDataSet['Day']\n",
    "        del aggrDataSet['WeatherEvent']\n",
    "\n",
    "        #aggrDataSet['fog'] = fog\n",
    "        #aggrDataSet['rain'] = rain\n",
    "        #aggrDataSet['snow'] = snow\n",
    "        aggrDataSet['event'] = event\n",
    "        aggrData = aggrDataSet.values\n",
    "        aggrData[aggrData == '-'] = 0\n",
    "\n",
    "        aggrGrp = aggrDataSet.groupby(['Year', 'Month']).groups\n",
    "        finalGrp = {}\n",
    "        for date, index in aggrGrp.items():\n",
    "            \n",
    "            data = aggrData[index]\n",
    "            #print(date, data.shape)\n",
    "            #print(data[:,2:-1])\n",
    "            avgRows = np.mean(data[:, 2:-2], axis=0)\n",
    "            #stdRows = np.std(data[:, 2:-2].astype(float), axis=0)\n",
    "            sumRows = np.sum(data[:,-2:],axis = 0)\n",
    "            updated = avgRows.tolist() + sumRows.tolist()\n",
    "            #updated = avgRows.tolist() + stdRows.tolist() + sumRows.tolist()\n",
    "            finalGrp[date] = updated\n",
    "            #print(sumRows)\n",
    "            #break\n",
    "        return finalGrp"
   ]
  },
  {
   "cell_type": "code",
   "execution_count": 141,
   "metadata": {},
   "outputs": [],
   "source": [
    "weath = weatherData(\"WeatherData.xlsx\")\n",
    "weatherData = weath.preprocessAndGetData()\n",
    "#print(len(weatherData.keys()))\n"
   ]
  },
  {
   "cell_type": "code",
   "execution_count": 127,
   "metadata": {},
   "outputs": [
    {
     "name": "stdout",
     "output_type": "stream",
     "text": [
      "96\n"
     ]
    }
   ],
   "source": [
    "print(len(weatherData.keys()))"
   ]
  },
  {
   "cell_type": "code",
   "execution_count": 142,
   "metadata": {},
   "outputs": [],
   "source": [
    "month = {'Jan' : 1, 'Feb' : 2, 'Mar' : 3, 'Apr': 4, 'May' : 5, 'Jun': 6, 'Jul' : 7, 'Aug': 8, 'Sep':9, 'Oct': 10, 'Nov' : 11, 'Dec' : 12}\n",
    "try:\n",
    "    #csv_columns = ['Year', 'Month', 'Temp Mean', 'Dew Point Mean', 'Humidity Mean', 'Sea Level Press Mean', 'Visibility Mean','Wind Mean','Temp Std', 'Dew Point Std', 'Humidity Std', 'Sea Level Press Std', 'Visibility Std','Wind Std', 'Precip sum', 'fog','rain','snow']\n",
    "    #csv_columns = ['Year', 'Month', 'Temp Mean', 'Dew Point Mean', 'Humidity Mean', 'Sea Level Press Mean', 'Visibility Mean','Wind Mean','Temp Std', 'Dew Point Std', 'Humidity Std', 'Sea Level Press Std', 'Visibility Std','Wind Std', 'Precip sum', 'fog','rain','snow']\n",
    "\n",
    "    #csv_columns = ['Year', 'Month','Temp Std', 'Dew Point Std', 'Humidity Std', 'Sea Level Press Std', 'Visibility Std','Wind Std', 'Precip sum', 'fog','rain','snow']\n",
    "    csv_columns = ['Year', 'Month','Temp Std', 'Dew Point Std', 'Humidity Std', 'Sea Level Press Std', 'Visibility Std','Wind Std', 'Precip sum', 'event']\n",
    "\n",
    "    with open('csv/weatherdata_final.csv', 'w') as f:  # Just use 'w' mode in 3.x\n",
    "        writer = csv.writer(f, dialect='excel', quoting=csv.QUOTE_NONNUMERIC)\n",
    "        writer.writerow(csv_columns)\n",
    "        for key,value in weatherData.items():\n",
    "            y,m = key\n",
    "            if(str(m) == 'nan'):\n",
    "                continue\n",
    "            row = [y, month[m]]\n",
    "            row = row + value\n",
    "            writer.writerow(row)\n",
    "except IOError:\n",
    "            print(\"I/O error({0}): {1}\".format(errno, strerror))              "
   ]
  },
  {
   "cell_type": "code",
   "execution_count": 136,
   "metadata": {},
   "outputs": [
    {
     "data": {
      "text/plain": [
       "\"\\ndf = pd.read_csv('Train_Kaggle.csv')\\ndfgrp = df.groupby(['Year','Month']).sum()\\ndfgrp.to_csv('csv/train_updated.csv')\\n\""
      ]
     },
     "execution_count": 136,
     "metadata": {},
     "output_type": "execute_result"
    }
   ],
   "source": [
    "'''\n",
    "df = pd.read_csv('Train_Kaggle.csv')\n",
    "dfgrp = df.groupby(['Year','Month']).sum()\n",
    "dfgrp.to_csv('csv/train_updated.csv')\n",
    "'''"
   ]
  },
  {
   "cell_type": "code",
   "execution_count": 137,
   "metadata": {},
   "outputs": [],
   "source": [
    "df = pd.read_csv('csv/holidayData.csv')\n",
    "months = df['MonthDate']\n",
    "months = [int(str(date).split('/')[0]) for date in months]\n",
    "df['MonthDate'] = months\n",
    "dfg = df.groupby(['Year', 'MonthDate'])"
   ]
  },
  {
   "cell_type": "code",
   "execution_count": 138,
   "metadata": {},
   "outputs": [],
   "source": [
    "easterEvent = np.zeros((len(months),1))\n",
    "christmasEvent = np.zeros((len(months),1))\n",
    "easterEvent[df['Event'] == 'Easter Sunday'] = 1\n",
    "christmasEvent[df['Event'] == 'Christmas Day'] = 1"
   ]
  },
  {
   "cell_type": "code",
   "execution_count": 118,
   "metadata": {},
   "outputs": [],
   "source": [
    "dates = np.transpose(np.vstack((df['Year'], df['MonthDate'])))\n",
    "events = np.concatenate((easterEvent, christmasEvent), axis = 1)\n",
    "final = np.concatenate((dates,events),axis= 1)\n",
    "finaldf = pd.DataFrame(final, columns = ['Year', 'Month', 'Easter', 'Christamas'])\n",
    "finaldf = finaldf.drop_duplicates()"
   ]
  },
  {
   "cell_type": "code",
   "execution_count": 139,
   "metadata": {},
   "outputs": [
    {
     "data": {
      "text/plain": [
       "(81, 4)"
      ]
     },
     "execution_count": 139,
     "metadata": {},
     "output_type": "execute_result"
    }
   ],
   "source": [
    "prevRow = [0,0,0,0]\n",
    "updated = []\n",
    "i = 0\n",
    "#updated = np.zeros((finaldf.shape), dtype = float)\n",
    "for row in (finaldf.values):\n",
    "    if(prevRow[0] == row[0] and prevRow[1] == row[1]):\n",
    "        if((prevRow[2:] == 1).any()):\n",
    "            continue\n",
    "        elif((row[2:] == 1).any()):\n",
    "            updated[i-1] = row\n",
    "    else:\n",
    "        updated.append(row)\n",
    "        i += 1\n",
    "    prevRow = row\n",
    "updated = np.array(updated)\n",
    "updated.shape\n"
   ]
  },
  {
   "cell_type": "code",
   "execution_count": 119,
   "metadata": {},
   "outputs": [],
   "source": [
    "finaldf = pd.DataFrame(updated, columns = ['Year', 'Month', 'Easter', 'Christamas'])\n",
    "finaldf.to_csv('csv/eventdays.csv', index = False)"
   ]
  },
  {
   "cell_type": "code",
   "execution_count": 121,
   "metadata": {},
   "outputs": [],
   "source": []
  },
  {
   "cell_type": "raw",
   "metadata": {},
   "source": []
  },
  {
   "cell_type": "code",
   "execution_count": null,
   "metadata": {},
   "outputs": [],
   "source": []
  },
  {
   "cell_type": "code",
   "execution_count": null,
   "metadata": {},
   "outputs": [],
   "source": []
  },
  {
   "cell_type": "code",
   "execution_count": null,
   "metadata": {},
   "outputs": [],
   "source": []
  },
  {
   "cell_type": "code",
   "execution_count": null,
   "metadata": {},
   "outputs": [],
   "source": []
  }
 ],
 "metadata": {
  "kernelspec": {
   "display_name": "Python 3",
   "language": "python",
   "name": "python3"
  },
  "language_info": {
   "codemirror_mode": {
    "name": "ipython",
    "version": 3
   },
   "file_extension": ".py",
   "mimetype": "text/x-python",
   "name": "python",
   "nbconvert_exporter": "python",
   "pygments_lexer": "ipython3",
   "version": "3.5.2"
  }
 },
 "nbformat": 4,
 "nbformat_minor": 2
}
